{
 "cells": [
  {
   "cell_type": "markdown",
   "metadata": {},
   "source": [
    "# Preprocessing Phase \n",
    "**Preprocessing Module** \n",
    "* With a given raw dataset, we first preprocess the data before feeding to a neural network for training phase \n",
    "* In this phase, we drop columns with NA data points and normalize the numeric data points \n",
    "* We convert the non-numeric data points to one-hot encoding format"
   ]
  },
  {
   "cell_type": "markdown",
   "metadata": {},
   "source": [
    "We are using KDD-99 dataset in order to train a neural network for anomaly detection. [KDD-99](http://kdd.ics.uci.edu/databases/kddcup99/kddcup99.html) dataset is a very famous dataset for intrusion detection systems. The following code is for preprocessing of raw data from the KDD-99 dataset. "
   ]
  },
  {
   "cell_type": "markdown",
   "metadata": {},
   "source": [
    "**Downloading KDD-99 dataset**"
   ]
  },
  {
   "cell_type": "code",
   "execution_count": 10,
   "metadata": {},
   "outputs": [
    {
     "name": "stdout",
     "output_type": "stream",
     "text": [
      "/Users/vijay/.keras/datasets/kddcup.data_10_percent.gz\n",
      "Read 494021 rows.\n"
     ]
    }
   ],
   "source": [
    "import pandas as pd\n",
    "from tensorflow.keras.utils import get_file\n",
    "\n",
    "try:\n",
    "    path = get_file('kddcup.data_10_percent.gz', origin=\n",
    "    'http://kdd.ics.uci.edu/databases/kddcup99/kddcup.data_10_percent.gz')\n",
    "except:\n",
    "    print('Error downloading')\n",
    "    raise\n",
    "    \n",
    "print(path) \n",
    "\n",
    "df = pd.read_csv(path, header=None)\n",
    "\n",
    "print(\"Read {} rows.\".format(len(df)))\n",
    "df.dropna(inplace=True,axis=1) #Dropping columns with NA values "
   ]
  },
  {
   "cell_type": "code",
   "execution_count": 11,
   "metadata": {},
   "outputs": [],
   "source": [
    "old_features = [\n",
    "    'duration',\n",
    "    'protocol_type',\n",
    "    'service',\n",
    "    'flag',\n",
    "    'src_bytes',\n",
    "    'dst_bytes',\n",
    "    'land',\n",
    "    'wrong_fragment',\n",
    "    'urgent',\n",
    "    'hot',\n",
    "    'num_failed_logins',\n",
    "    'logged_in',\n",
    "    'num_compromised',\n",
    "    'root_shell',\n",
    "    'su_attempted',\n",
    "    'num_root',\n",
    "    'num_file_creations',\n",
    "    'num_shells',\n",
    "    'num_access_files',\n",
    "    'num_outbound_cmds',\n",
    "    'is_host_login',\n",
    "    'is_guest_login',\n",
    "    'count',\n",
    "    'srv_count',\n",
    "    'serror_rate',\n",
    "    'srv_serror_rate',\n",
    "    'rerror_rate',\n",
    "    'srv_rerror_rate',\n",
    "    'same_srv_rate',\n",
    "    'diff_srv_rate',\n",
    "    'srv_diff_host_rate',\n",
    "    'dst_host_count',\n",
    "    'dst_host_srv_count',\n",
    "    'dst_host_same_srv_rate',\n",
    "    'dst_host_diff_srv_rate',\n",
    "    'dst_host_same_src_port_rate',\n",
    "    'dst_host_srv_diff_host_rate',\n",
    "    'dst_host_serror_rate',\n",
    "    'dst_host_srv_serror_rate',\n",
    "    'dst_host_rerror_rate',\n",
    "    'dst_host_srv_rerror_rate',\n",
    "    'outcome'\n",
    "]"
   ]
  },
  {
   "cell_type": "markdown",
   "metadata": {},
   "source": [
    "Adding columns to the dataframe "
   ]
  },
  {
   "cell_type": "code",
   "execution_count": 12,
   "metadata": {},
   "outputs": [
    {
     "data": {
      "text/html": [
       "<div>\n",
       "<style scoped>\n",
       "    .dataframe tbody tr th:only-of-type {\n",
       "        vertical-align: middle;\n",
       "    }\n",
       "\n",
       "    .dataframe tbody tr th {\n",
       "        vertical-align: top;\n",
       "    }\n",
       "\n",
       "    .dataframe thead th {\n",
       "        text-align: right;\n",
       "    }\n",
       "</style>\n",
       "<table border=\"1\" class=\"dataframe\">\n",
       "  <thead>\n",
       "    <tr style=\"text-align: right;\">\n",
       "      <th></th>\n",
       "      <th>duration</th>\n",
       "      <th>protocol_type</th>\n",
       "      <th>...</th>\n",
       "      <th>dst_host_srv_rerror_rate</th>\n",
       "      <th>outcome</th>\n",
       "    </tr>\n",
       "  </thead>\n",
       "  <tbody>\n",
       "    <tr>\n",
       "      <th>0</th>\n",
       "      <td>0</td>\n",
       "      <td>tcp</td>\n",
       "      <td>...</td>\n",
       "      <td>0.0</td>\n",
       "      <td>normal.</td>\n",
       "    </tr>\n",
       "    <tr>\n",
       "      <th>1</th>\n",
       "      <td>0</td>\n",
       "      <td>tcp</td>\n",
       "      <td>...</td>\n",
       "      <td>0.0</td>\n",
       "      <td>normal.</td>\n",
       "    </tr>\n",
       "    <tr>\n",
       "      <th>2</th>\n",
       "      <td>0</td>\n",
       "      <td>tcp</td>\n",
       "      <td>...</td>\n",
       "      <td>0.0</td>\n",
       "      <td>normal.</td>\n",
       "    </tr>\n",
       "    <tr>\n",
       "      <th>3</th>\n",
       "      <td>0</td>\n",
       "      <td>tcp</td>\n",
       "      <td>...</td>\n",
       "      <td>0.0</td>\n",
       "      <td>normal.</td>\n",
       "    </tr>\n",
       "    <tr>\n",
       "      <th>4</th>\n",
       "      <td>0</td>\n",
       "      <td>tcp</td>\n",
       "      <td>...</td>\n",
       "      <td>0.0</td>\n",
       "      <td>normal.</td>\n",
       "    </tr>\n",
       "  </tbody>\n",
       "</table>\n",
       "<p>5 rows × 42 columns</p>\n",
       "</div>"
      ],
      "text/plain": [
       "   duration protocol_type  ... dst_host_srv_rerror_rate  outcome\n",
       "0         0           tcp  ...                      0.0  normal.\n",
       "1         0           tcp  ...                      0.0  normal.\n",
       "2         0           tcp  ...                      0.0  normal.\n",
       "3         0           tcp  ...                      0.0  normal.\n",
       "4         0           tcp  ...                      0.0  normal.\n",
       "\n",
       "[5 rows x 42 columns]"
      ]
     },
     "metadata": {},
     "output_type": "display_data"
    }
   ],
   "source": [
    "df.columns = [\n",
    "    'duration',\n",
    "    'protocol_type',\n",
    "    'service',\n",
    "    'flag',\n",
    "    'src_bytes',\n",
    "    'dst_bytes',\n",
    "    'land',\n",
    "    'wrong_fragment',\n",
    "    'urgent',\n",
    "    'hot',\n",
    "    'num_failed_logins',\n",
    "    'logged_in',\n",
    "    'num_compromised',\n",
    "    'root_shell',\n",
    "    'su_attempted',\n",
    "    'num_root',\n",
    "    'num_file_creations',\n",
    "    'num_shells',\n",
    "    'num_access_files',\n",
    "    'num_outbound_cmds',\n",
    "    'is_host_login',\n",
    "    'is_guest_login',\n",
    "    'count',\n",
    "    'srv_count',\n",
    "    'serror_rate',\n",
    "    'srv_serror_rate',\n",
    "    'rerror_rate',\n",
    "    'srv_rerror_rate',\n",
    "    'same_srv_rate',\n",
    "    'diff_srv_rate',\n",
    "    'srv_diff_host_rate',\n",
    "    'dst_host_count',\n",
    "    'dst_host_srv_count',\n",
    "    'dst_host_same_srv_rate',\n",
    "    'dst_host_diff_srv_rate',\n",
    "    'dst_host_same_src_port_rate',\n",
    "    'dst_host_srv_diff_host_rate',\n",
    "    'dst_host_serror_rate',\n",
    "    'dst_host_srv_serror_rate',\n",
    "    'dst_host_rerror_rate',\n",
    "    'dst_host_srv_rerror_rate',\n",
    "    'outcome'\n",
    "]\n",
    "\n",
    "pd.set_option('display.max_columns', 5)\n",
    "pd.set_option('display.max_rows', 5)\n",
    "# display 5 rows\n",
    "display(df[0:5])"
   ]
  },
  {
   "cell_type": "markdown",
   "metadata": {},
   "source": [
    "Normalizing the numeric data-points and converting the non-numeric datapoints to one-hot encoding "
   ]
  },
  {
   "cell_type": "code",
   "execution_count": 13,
   "metadata": {},
   "outputs": [],
   "source": [
    "import pandas as pd\n",
    "import os\n",
    "import numpy as np\n",
    "from sklearn import metrics\n",
    "from scipy.stats import zscore\n",
    "import matplotlib.pyplot as plt \n",
    "\n",
    "def normalize(df, name, mean=None, sd=None):\n",
    "    if mean is None: \n",
    "        mean = df[name].mean()\n",
    "    if sd is None:\n",
    "        sd = df[name].std()\n",
    "    \n",
    "    df[name] = (df[name] - mean)/sd\n",
    "    \n",
    "def encode_text_dummy(df, name):\n",
    "    #one-hot encoding  \n",
    "    dummies = pd.get_dummies(df[name])\n",
    "    for x in dummies.columns:\n",
    "        dummy_name = f\"{name}-{x}\"\n",
    "        df[dummy_name] = dummies[x]\n",
    "    df.drop(name, axis=1, inplace=True)"
   ]
  },
  {
   "cell_type": "code",
   "execution_count": 14,
   "metadata": {},
   "outputs": [
    {
     "data": {
      "text/html": [
       "<div>\n",
       "<style scoped>\n",
       "    .dataframe tbody tr th:only-of-type {\n",
       "        vertical-align: middle;\n",
       "    }\n",
       "\n",
       "    .dataframe tbody tr th {\n",
       "        vertical-align: top;\n",
       "    }\n",
       "\n",
       "    .dataframe thead th {\n",
       "        text-align: right;\n",
       "    }\n",
       "</style>\n",
       "<table border=\"1\" class=\"dataframe\">\n",
       "  <thead>\n",
       "    <tr style=\"text-align: right;\">\n",
       "      <th></th>\n",
       "      <th>duration</th>\n",
       "      <th>src_bytes</th>\n",
       "      <th>...</th>\n",
       "      <th>is_guest_login-0</th>\n",
       "      <th>is_guest_login-1</th>\n",
       "    </tr>\n",
       "  </thead>\n",
       "  <tbody>\n",
       "    <tr>\n",
       "      <th>0</th>\n",
       "      <td>-0.067792</td>\n",
       "      <td>-0.002879</td>\n",
       "      <td>...</td>\n",
       "      <td>1</td>\n",
       "      <td>0</td>\n",
       "    </tr>\n",
       "    <tr>\n",
       "      <th>1</th>\n",
       "      <td>-0.067792</td>\n",
       "      <td>-0.002820</td>\n",
       "      <td>...</td>\n",
       "      <td>1</td>\n",
       "      <td>0</td>\n",
       "    </tr>\n",
       "    <tr>\n",
       "      <th>2</th>\n",
       "      <td>-0.067792</td>\n",
       "      <td>-0.002824</td>\n",
       "      <td>...</td>\n",
       "      <td>1</td>\n",
       "      <td>0</td>\n",
       "    </tr>\n",
       "    <tr>\n",
       "      <th>3</th>\n",
       "      <td>-0.067792</td>\n",
       "      <td>-0.002840</td>\n",
       "      <td>...</td>\n",
       "      <td>1</td>\n",
       "      <td>0</td>\n",
       "    </tr>\n",
       "    <tr>\n",
       "      <th>4</th>\n",
       "      <td>-0.067792</td>\n",
       "      <td>-0.002842</td>\n",
       "      <td>...</td>\n",
       "      <td>1</td>\n",
       "      <td>0</td>\n",
       "    </tr>\n",
       "  </tbody>\n",
       "</table>\n",
       "<p>5 rows × 121 columns</p>\n",
       "</div>"
      ],
      "text/plain": [
       "   duration  src_bytes  ...  is_guest_login-0  is_guest_login-1\n",
       "0 -0.067792  -0.002879  ...                 1                 0\n",
       "1 -0.067792  -0.002820  ...                 1                 0\n",
       "2 -0.067792  -0.002824  ...                 1                 0\n",
       "3 -0.067792  -0.002840  ...                 1                 0\n",
       "4 -0.067792  -0.002842  ...                 1                 0\n",
       "\n",
       "[5 rows x 121 columns]"
      ]
     },
     "execution_count": 14,
     "metadata": {},
     "output_type": "execute_result"
    }
   ],
   "source": [
    "normalize(df, 'duration')\n",
    "encode_text_dummy(df, 'protocol_type')\n",
    "encode_text_dummy(df, 'service')\n",
    "encode_text_dummy(df, 'flag')\n",
    "normalize(df, 'src_bytes')\n",
    "normalize(df, 'dst_bytes')\n",
    "encode_text_dummy(df, 'land')\n",
    "normalize(df, 'wrong_fragment')\n",
    "normalize(df, 'urgent')\n",
    "normalize(df, 'hot')\n",
    "normalize(df, 'num_failed_logins')\n",
    "encode_text_dummy(df, 'logged_in')\n",
    "normalize(df, 'num_compromised')\n",
    "normalize(df, 'root_shell')\n",
    "normalize(df, 'su_attempted')\n",
    "normalize(df, 'num_root')\n",
    "normalize(df, 'num_file_creations')\n",
    "normalize(df, 'num_shells')\n",
    "normalize(df, 'num_access_files')\n",
    "normalize(df, 'num_outbound_cmds')\n",
    "encode_text_dummy(df, 'is_host_login')\n",
    "encode_text_dummy(df, 'is_guest_login')\n",
    "normalize(df, 'count')\n",
    "normalize(df, 'srv_count')\n",
    "normalize(df, 'serror_rate')\n",
    "normalize(df, 'srv_serror_rate')\n",
    "normalize(df, 'rerror_rate')\n",
    "normalize(df, 'srv_rerror_rate')\n",
    "normalize(df, 'same_srv_rate')\n",
    "normalize(df, 'diff_srv_rate')\n",
    "normalize(df, 'srv_diff_host_rate')\n",
    "normalize(df, 'dst_host_count')\n",
    "normalize(df, 'dst_host_srv_count')\n",
    "normalize(df, 'dst_host_same_srv_rate')\n",
    "normalize(df, 'dst_host_diff_srv_rate')\n",
    "normalize(df, 'dst_host_same_src_port_rate')\n",
    "normalize(df, 'dst_host_srv_diff_host_rate')\n",
    "normalize(df, 'dst_host_serror_rate')\n",
    "normalize(df, 'dst_host_srv_serror_rate')\n",
    "normalize(df, 'dst_host_rerror_rate')\n",
    "normalize(df, 'dst_host_srv_rerror_rate')\n",
    "\n",
    "df.dropna(inplace=True,axis=1) #dropping the columns with any NA \n",
    "df[0:5]"
   ]
  },
  {
   "cell_type": "markdown",
   "metadata": {},
   "source": [
    "Seperating the columns with **outcome** and features \n",
    "x will hold the feature columns while y will hold the **outcome**.  \n",
    "Since, outcomes has a set of attack types, 23 types, we convert the **outcome** column to a one-hot encoding vector  "
   ]
  },
  {
   "cell_type": "code",
   "execution_count": 15,
   "metadata": {},
   "outputs": [],
   "source": [
    "x_columns = df.columns.drop('outcome')\n",
    "x = df[x_columns].values\n",
    "dummies = pd.get_dummies(df['outcome'])\n",
    "outcomes = dummies.columns \n",
    "num_classes = len(outcomes)\n",
    "y = dummies.values "
   ]
  },
  {
   "cell_type": "code",
   "execution_count": 16,
   "metadata": {},
   "outputs": [],
   "source": [
    "df.groupby('outcome')['outcome'].count()\n",
    "m = dummies.sum()\n",
    "#Try to draw a bar plot to show normal and attack data"
   ]
  },
  {
   "cell_type": "markdown",
   "metadata": {},
   "source": [
    "# Training Phase \n",
    "**Training Module**\n",
    "* In this part, we build a neural network using keras API "
   ]
  },
  {
   "cell_type": "code",
   "execution_count": 17,
   "metadata": {},
   "outputs": [
    {
     "name": "stdout",
     "output_type": "stream",
     "text": [
      "Model: \"sequential\"\n",
      "_________________________________________________________________\n",
      "Layer (type)                 Output Shape              Param #   \n",
      "=================================================================\n",
      "dense (Dense)                (None, 64)                7744      \n",
      "_________________________________________________________________\n",
      "dense_1 (Dense)              (None, 32)                2080      \n",
      "_________________________________________________________________\n",
      "dense_2 (Dense)              (None, 16)                528       \n",
      "_________________________________________________________________\n",
      "dense_3 (Dense)              (None, 23)                391       \n",
      "=================================================================\n",
      "Total params: 10,743\n",
      "Trainable params: 10,743\n",
      "Non-trainable params: 0\n",
      "_________________________________________________________________\n"
     ]
    }
   ],
   "source": [
    "import pandas as pd\n",
    "import io \n",
    "import requests \n",
    "import numpy as np \n",
    "import os \n",
    "from sklearn.model_selection import train_test_split\n",
    "from sklearn import metrics \n",
    "from tensorflow.keras.models import Sequential\n",
    "from tensorflow.keras.layers import Dense, Activation \n",
    "from tensorflow.keras.callbacks import EarlyStopping, ModelCheckpoint\n",
    "\n",
    "x_train, x_test, y_train, y_test = train_test_split(x, y, test_size=0.25, random_state=42)\n",
    "\n",
    "model = Sequential()\n",
    "model.add(Dense(64, input_dim=x.shape[1], activation=\"relu\"))\n",
    "model.add(Dense(32, activation=\"relu\"))\n",
    "model.add(Dense(16, activation=\"relu\"))\n",
    "model.add(Dense(y.shape[1], activation=\"softmax\"))\n",
    "model.compile(loss=\"categorical_crossentropy\", optimizer=\"adam\", metrics=['accuracy'])\n",
    "monitor = EarlyStopping(monitor=\"val_loss\", min_delta=1e-3, patience=5, verbose=2, mode=\"auto\", restore_best_weights=True)\n",
    "\n",
    "filepath = \"model.h5\"\n",
    "cp1= ModelCheckpoint(filepath=filepath, monitor='loss', save_best_only=True, verbose=1, mode='min')\n",
    "callbacks_list = [cp1]\n",
    "\n",
    "model.summary()"
   ]
  },
  {
   "cell_type": "markdown",
   "metadata": {},
   "source": [
    "Once we build the model, we feed the model with training data points"
   ]
  },
  {
   "cell_type": "code",
   "execution_count": 18,
   "metadata": {},
   "outputs": [
    {
     "name": "stdout",
     "output_type": "stream",
     "text": [
      "Epoch 1/3\n",
      "7411/7411 - 17s - loss: 0.0302 - accuracy: 0.9953 - val_loss: 0.0063 - val_accuracy: 0.9982\n",
      "Epoch 2/3\n",
      "7411/7411 - 15s - loss: 0.0046 - accuracy: 0.9989 - val_loss: 0.0176 - val_accuracy: 0.9983\n",
      "Epoch 3/3\n",
      "7411/7411 - 15s - loss: 0.0042 - accuracy: 0.9991 - val_loss: 0.0040 - val_accuracy: 0.9991\n"
     ]
    }
   ],
   "source": [
    "history = model.fit(x_train, y_train, validation_data=(x_test, y_test), callbacks=[monitor], verbose=2, epochs=3, batch_size=50)"
   ]
  },
  {
   "cell_type": "markdown",
   "metadata": {},
   "source": [
    "Here we save the model along with its weights "
   ]
  },
  {
   "cell_type": "code",
   "execution_count": 20,
   "metadata": {},
   "outputs": [
    {
     "name": "stdout",
     "output_type": "stream",
     "text": [
      "INFO:tensorflow:Assets written to: my_model/assets\n"
     ]
    }
   ],
   "source": [
    "model.save('my_model')"
   ]
  },
  {
   "cell_type": "markdown",
   "metadata": {},
   "source": [
    "**Testing the model** "
   ]
  },
  {
   "cell_type": "code",
   "execution_count": 21,
   "metadata": {},
   "outputs": [
    {
     "name": "stdout",
     "output_type": "stream",
     "text": [
      "Validation score: 0.9991012582384662\n"
     ]
    }
   ],
   "source": [
    "pred = model.predict(x_test)\n",
    "pred = np.argmax(pred,axis=1)\n",
    "y_eval = np.argmax(y_test,axis=1)\n",
    "score = metrics.accuracy_score(y_eval, pred)\n",
    "print(\"Validation score: {}\".format(score))"
   ]
  },
  {
   "cell_type": "code",
   "execution_count": 22,
   "metadata": {},
   "outputs": [
    {
     "data": {
      "text/plain": [
       "<matplotlib.legend.Legend at 0x7fc8f5205eb0>"
      ]
     },
     "execution_count": 22,
     "metadata": {},
     "output_type": "execute_result"
    },
    {
     "data": {
      "image/png": "[encoded data removed]",
      "text/plain": [
       "<Figure size 432x288 with 1 Axes>"
      ]
     },
     "metadata": {
      "needs_background": "light"
     },
     "output_type": "display_data"
    }
   ],
   "source": [
    "import matplotlib.pyplot as plt\n",
    "plt.plot(history.history['accuracy'], label='accuracy')\n",
    "plt.plot(history.history['val_accuracy'], label = 'val_accuracy')\n",
    "plt.xlabel('Epoch')\n",
    "plt.ylabel('Accuracy')\n",
    "# plt.ylim([0.5, 1])\n",
    "plt.legend(loc='lower right')"
   ]
  },
  {
   "cell_type": "markdown",
   "metadata": {},
   "source": [
    "# Predicting with a Trained Model"
   ]
  },
  {
   "cell_type": "code",
   "execution_count": 23,
   "metadata": {},
   "outputs": [
    {
     "name": "stdout",
     "output_type": "stream",
     "text": [
      "Anomaly Detected\n",
      "Anomaly Detected\n",
      "Anomaly Detected\n",
      "Anomaly Detected\n",
      "Anomaly Detected\n",
      "good connection\n",
      "Anomaly Detected\n",
      "Anomaly Detected\n",
      "Anomaly Detected\n",
      "Anomaly Detected\n"
     ]
    }
   ],
   "source": [
    "#Write a module to predict anomaly in a packet and classify it accordingly \n",
    "import random \n",
    "\n",
    "attacks_types = { \n",
    "    'normal.': 'normal', \n",
    "'back.': 'dos', \n",
    "'buffer_overflow.': 'u2r', \n",
    "'ftp_write.': 'r2l', \n",
    "'guess_passwd.': 'r2l', \n",
    "'imap.': 'r2l', \n",
    "'ipsweep.': 'probe', \n",
    "'land.': 'dos', \n",
    "'loadmodule.': 'u2r', \n",
    "'multihop.': 'r2l', \n",
    "'neptune.': 'dos', \n",
    "'nmap.': 'probe', \n",
    "'perl.': 'u2r', \n",
    "'phf.': 'r2l', \n",
    "'pod.': 'dos', \n",
    "'portsweep.': 'probe', \n",
    "'rootkit.': 'u2r', \n",
    "'satan.': 'probe', \n",
    "'smurf.': 'dos', \n",
    "'spy.': 'r2l', \n",
    "'teardrop.': 'dos', \n",
    "'warezclient.': 'r2l', \n",
    "'warezmaster.': 'r2l', \n",
    "} \n",
    "\n",
    "attack_index = {\n",
    "    0: 'back.',\n",
    "    1: 'buffer_overflow.',\n",
    "    2: 'ftp_write.',\n",
    "    3: 'guess_passwd.',\n",
    "    4: 'imap.',\n",
    "    5: 'ipsweep.',\n",
    "    6: 'land.',\n",
    "    7: 'loadmodule.',\n",
    "    8: 'multihop.',\n",
    "    9: 'neptune.',\n",
    "    10: 'nmap.',\n",
    "    11: 'normal.',\n",
    "    12: 'perl.',\n",
    "    13: 'phf.',\n",
    "    14: 'pod.',\n",
    "    15: 'portsweep.',\n",
    "    16: 'rootkit.',\n",
    "    17: 'satan.',\n",
    "    18: 'smurf.',\n",
    "    19: 'spy.',\n",
    "    20: 'teardrop.',\n",
    "    21: 'warezclient.',\n",
    "    22: 'warezmaster.'\n",
    "}\n",
    "def predict(data_point):\n",
    "    #binary classification as either \"good\" or \"bad\" connection \n",
    "    val = data_point.reshape(1, 120)\n",
    "    prediction = model.predict(val)\n",
    "    pred = np.argmax(prediction, axis=1)\n",
    "    attack = attack_index[pred[0]]\n",
    "    attack_type = attacks_types[attack]\n",
    "#     print(attack_type)\n",
    "    if attack_type == 'normal':\n",
    "        return 0 \n",
    "    else: \n",
    "        return 1 \n",
    "\n",
    "for i in range(10):\n",
    "    sample = random.randint(1, 123506)\n",
    "    data_point = x_test[sample]\n",
    "    if predict(data_point) == 0:\n",
    "        print(\"good connection\")\n",
    "    else: \n",
    "        print(\"Anomaly Detected\")"
   ]
  },
  {
   "cell_type": "markdown",
   "metadata": {},
   "source": [
    "# Re-Training the Model\n",
    "* We re-train the same model with a new batch of dataset"
   ]
  },
  {
   "cell_type": "code",
   "execution_count": 24,
   "metadata": {},
   "outputs": [
    {
     "name": "stdout",
     "output_type": "stream",
     "text": [
      "7411/7411 [==============================] - 11s 1ms/step - loss: 0.0031 - accuracy: 0.9993\n",
      "Epoch 1/5\n",
      "7411/7411 - 13s - loss: 0.0034 - accuracy: 0.9992 - val_loss: 0.0038 - val_accuracy: 0.9992\n",
      "Epoch 2/5\n",
      "7411/7411 - 17s - loss: 0.0030 - accuracy: 0.9993 - val_loss: 0.0038 - val_accuracy: 0.9990\n",
      "Epoch 3/5\n",
      "7411/7411 - 10s - loss: 0.0047 - accuracy: 0.9992 - val_loss: 0.0033 - val_accuracy: 0.9992\n",
      "Epoch 4/5\n",
      "7411/7411 - 10s - loss: 0.0025 - accuracy: 0.9993 - val_loss: 0.0034 - val_accuracy: 0.9993\n",
      "Epoch 5/5\n",
      "7411/7411 - 9s - loss: 0.0026 - accuracy: 0.9993 - val_loss: 0.0040 - val_accuracy: 0.9993\n"
     ]
    }
   ],
   "source": [
    "from tensorflow.keras.models import load_model\n",
    "new_model = load_model(\"my_model\")\n",
    "score = model.evaluate(x_train, y_train, batch_size=50)\n",
    "\n",
    "cp1 = ModelCheckpoint(filepath, monitor='loss', verbose=1, save_best_only=True, mode='min')\n",
    "cp1.best = score # <== ****THIS IS THE KEY **** See source for  ModelCheckpoint\n",
    "\n",
    "# fit the model\n",
    "callbacks_list = [cp1]\n",
    "history = new_model.fit(x_train, y_train, validation_data=(x_test, y_test), callbacks=[monitor], verbose=2, epochs=5, batch_size=50)"
   ]
  },
  {
   "cell_type": "code",
   "execution_count": 25,
   "metadata": {},
   "outputs": [
    {
     "name": "stdout",
     "output_type": "stream",
     "text": [
      "INFO:tensorflow:Assets written to: my_model/assets\n"
     ]
    }
   ],
   "source": [
    "model.save('my_model')"
   ]
  },
  {
   "cell_type": "code",
   "execution_count": 26,
   "metadata": {},
   "outputs": [
    {
     "data": {
      "text/plain": [
       "<matplotlib.legend.Legend at 0x7fc8f4d82340>"
      ]
     },
     "execution_count": 26,
     "metadata": {},
     "output_type": "execute_result"
    },
    {
     "data": {
      "image/png": "[encoded data removed]",
      "text/plain": [
       "<Figure size 432x288 with 1 Axes>"
      ]
     },
     "metadata": {
      "needs_background": "light"
     },
     "output_type": "display_data"
    }
   ],
   "source": [
    "import matplotlib.pyplot as plt\n",
    "plt.plot(history.history['accuracy'], label='accuracy')\n",
    "plt.plot(history.history['val_accuracy'], label = 'val_accuracy')\n",
    "plt.xlabel('Epoch')\n",
    "plt.ylabel('Accuracy')\n",
    "# plt.ylim([0.5, 1])\n",
    "plt.legend(loc='lower right')"
   ]
  },
  {
   "cell_type": "markdown",
   "metadata": {},
   "source": [
    "# Comparsion between Old and New Model"
   ]
  },
  {
   "cell_type": "markdown",
   "metadata": {},
   "source": [
    "**What happens when a new batch of data set comes with a new feature column?**\n",
    "* First we will drop the new feature and retrain the model model to see how the existing model perform \n",
    "* Then we retrain the model with new feature on a completely new model and compare the performance of old model trained in the same number of random sampled data points "
   ]
  },
  {
   "cell_type": "markdown",
   "metadata": {},
   "source": [
    "**Module for Preprocessing the New Dataset** "
   ]
  },
  {
   "cell_type": "code",
   "execution_count": 27,
   "metadata": {},
   "outputs": [],
   "source": [
    "def preprocessing_dataset(path):\n",
    "    df = pd.read_csv(path, header=None)\n",
    "\n",
    "    print(\"Read {} rows.\".format(len(df)))\n",
    "    df.dropna(inplace=True,axis=1) #Dropping columns with NA values \n",
    "    return df "
   ]
  },
  {
   "cell_type": "markdown",
   "metadata": {},
   "source": [
    "**Module to extract new features**"
   ]
  },
  {
   "cell_type": "code",
   "execution_count": 28,
   "metadata": {},
   "outputs": [],
   "source": [
    "def extract_new_feature(df):\n",
    "    all_features = df.columns.to_list()\n",
    "    new_features = set(all_features) - set(old_features)\n",
    "    return list(new_features)"
   ]
  },
  {
   "cell_type": "markdown",
   "metadata": {},
   "source": [
    "**Module to get the data in the older format** "
   ]
  },
  {
   "cell_type": "code",
   "execution_count": 29,
   "metadata": {},
   "outputs": [],
   "source": [
    "def dropping_new_features(df, new_features):\n",
    "    for feature in new_features: \n",
    "        df.drop(feature, axis=1, inplace=True)\n",
    "    return df "
   ]
  },
  {
   "cell_type": "markdown",
   "metadata": {},
   "source": [
    "**Normalizing the columns and encoding text field to dummy**"
   ]
  },
  {
   "cell_type": "code",
   "execution_count": 30,
   "metadata": {},
   "outputs": [],
   "source": [
    "def normalizing_and_creating_one_hot_encoding(df):\n",
    "    normalize(df, 'duration')\n",
    "    encode_text_dummy(df, 'protocol_type')\n",
    "    encode_text_dummy(df, 'service')\n",
    "    encode_text_dummy(df, 'flag')\n",
    "    normalize(df, 'src_bytes')\n",
    "    normalize(df, 'dst_bytes')\n",
    "    encode_text_dummy(df, 'land')\n",
    "    normalize(df, 'wrong_fragment')\n",
    "    normalize(df, 'urgent')\n",
    "    normalize(df, 'hot')\n",
    "    normalize(df, 'num_failed_logins')\n",
    "    encode_text_dummy(df, 'logged_in')\n",
    "    normalize(df, 'num_compromised')\n",
    "    normalize(df, 'root_shell')\n",
    "    normalize(df, 'su_attempted')\n",
    "    normalize(df, 'num_root')\n",
    "    normalize(df, 'num_file_creations')\n",
    "    normalize(df, 'num_shells')\n",
    "    normalize(df, 'num_access_files')\n",
    "    normalize(df, 'num_outbound_cmds')\n",
    "    encode_text_dummy(df, 'is_host_login')\n",
    "    encode_text_dummy(df, 'is_guest_login')\n",
    "    normalize(df, 'count')\n",
    "    normalize(df, 'srv_count')\n",
    "    normalize(df, 'serror_rate')\n",
    "    normalize(df, 'srv_serror_rate')\n",
    "    normalize(df, 'rerror_rate')\n",
    "    normalize(df, 'srv_rerror_rate')\n",
    "    normalize(df, 'same_srv_rate')\n",
    "    normalize(df, 'diff_srv_rate')\n",
    "    normalize(df, 'srv_diff_host_rate')\n",
    "    normalize(df, 'dst_host_count')\n",
    "    normalize(df, 'dst_host_srv_count')\n",
    "    normalize(df, 'dst_host_same_srv_rate')\n",
    "    normalize(df, 'dst_host_diff_srv_rate')\n",
    "    normalize(df, 'dst_host_same_src_port_rate')\n",
    "    normalize(df, 'dst_host_srv_diff_host_rate')\n",
    "    normalize(df, 'dst_host_serror_rate')\n",
    "    normalize(df, 'dst_host_srv_serror_rate')\n",
    "    normalize(df, 'dst_host_rerror_rate')\n",
    "    normalize(df, 'dst_host_srv_rerror_rate')\n",
    "\n",
    "    df.dropna(inplace=True,axis=1) #dropping the columns with any NA \n",
    "    df[0:5]\n",
    "    return df "
   ]
  },
  {
   "cell_type": "markdown",
   "metadata": {},
   "source": [
    "**Splitting the data into train and test datasets**"
   ]
  },
  {
   "cell_type": "code",
   "execution_count": 31,
   "metadata": {},
   "outputs": [],
   "source": [
    "def getting_train_test_dataset(df):\n",
    "    x_columns = df.columns.drop('outcome')\n",
    "    x = df[x_columns].values\n",
    "    dummies = pd.get_dummies(df['outcome'])\n",
    "    outcomes = dummies.columns \n",
    "    num_classes = len(outcomes)\n",
    "    y = dummies.values \n",
    "    \n",
    "    x_train, x_test, y_train, y_test = train_test_split(x, y, test_size=0.25, random_state=42)\n",
    "    return (x_train, x_test, y_train, y_test)"
   ]
  },
  {
   "cell_type": "markdown",
   "metadata": {},
   "source": [
    "**Training a Neural network with the data in older format**"
   ]
  },
  {
   "cell_type": "code",
   "execution_count": 32,
   "metadata": {},
   "outputs": [],
   "source": [
    "#Here we adjust the input_dim with new x.shape[1] size if the dataset involves a new set of features \n",
    "\n",
    "# the value of x.shape[1] will be different in the initial layer in this case\n",
    "def build_model(df):\n",
    "    x_train, x_test, y_train, y_test = getting_train_test_dataset(df)\n",
    "    model = Sequential()\n",
    "    model.add(Dense(64, input_dim=x_train.shape[1], activation=\"relu\"))\n",
    "    model.add(Dense(32, activation=\"relu\"))\n",
    "    model.add(Dense(16, activation=\"relu\"))\n",
    "    model.add(Dense(y.shape[1], activation=\"softmax\"))\n",
    "    model.compile(loss=\"categorical_crossentropy\", optimizer=\"adam\", metrics=['accuracy'])\n",
    "    monitor = EarlyStopping(monitor=\"val_loss\", min_delta=1e-3, patience=5, verbose=2, mode=\"auto\", restore_best_weights=True)\n",
    "    return model "
   ]
  },
  {
   "cell_type": "code",
   "execution_count": 33,
   "metadata": {},
   "outputs": [],
   "source": [
    "def train_and_test_model(df): \n",
    "    x_train, x_test, y_train, y_test = getting_train_test_dataset(df)\n",
    "    model = build_model()\n",
    "    filepath = \"model.h5\"\n",
    "    cp1= ModelCheckpoint(filepath=filepath, monitor='loss', save_best_only=True, verbose=1, mode='min')\n",
    "    callbacks_list = [cp1]\n",
    "    history = model.fit(x_train, y_train, validation_data=(x_test, y_test), callbacks=[monitor], verbose=2, epochs=3, batch_size=50)\n",
    "    model.save('my_model')\n",
    "    \n",
    "    pred = model.predict(x_test)\n",
    "    pred = np.argmax(pred,axis=1)\n",
    "    y_eval = np.argmax(y_test,axis=1)\n",
    "    score = metrics.accuracy_score(y_eval, pred)\n",
    "    print(\"Validation score: {}\".format(score))\n",
    "    \n",
    "    return score"
   ]
  },
  {
   "cell_type": "code",
   "execution_count": 34,
   "metadata": {},
   "outputs": [],
   "source": [
    "def getting_performance_of_new_dataset(path, mode):\n",
    "    df = preprocessing_dataset(path)\n",
    "    new_features = extract_new_feature(df)\n",
    "    if mode == \"old_format\": \n",
    "        df = dropping_new_features(df, new_feature)\n",
    "        df = normalizing_and_creating_one_hot_encoding(df)\n",
    "        model = build_model()\n",
    "        score_old_format = train_and_test_model(df)\n",
    "    else: \n",
    "        df = normalizing_and_creating_one_hot_encoding(df)\n",
    "        model = build_model()\n",
    "        score_new_format = train_and_test_model(df)\n",
    "    if score_old_format > score_new_format:\n",
    "        Print(\"Stay with the older format\")\n",
    "    else:\n",
    "        Print(\"Introduce new features to the training datasets\")"
   ]
  }
 ],
 "metadata": {
  "kernelspec": {
   "display_name": "Python 3",
   "language": "python",
   "name": "python3"
  },
  "language_info": {
   "codemirror_mode": {
    "name": "ipython",
    "version": 3
   },
   "file_extension": ".py",
   "mimetype": "text/x-python",
   "name": "python",
   "nbconvert_exporter": "python",
   "pygments_lexer": "ipython3",
   "version": "3.8.5"
  }
 },
 "nbformat": 4,
 "nbformat_minor": 4
}
